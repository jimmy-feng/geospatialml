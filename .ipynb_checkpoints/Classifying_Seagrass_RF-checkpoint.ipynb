{
 "cells": [
  {
   "cell_type": "code",
   "execution_count": 1,
   "id": "robust-remainder",
   "metadata": {
    "ExecuteTime": {
     "end_time": "2021-02-10T21:56:23.076159Z",
     "start_time": "2021-02-10T21:56:22.001594Z"
    }
   },
   "outputs": [],
   "source": [
    "#!pip install geopandas\n",
    "\n",
    "import geopandas as gpd"
   ]
  },
  {
   "cell_type": "code",
   "execution_count": null,
   "id": "horizontal-texas",
   "metadata": {},
   "outputs": [],
   "source": [
    "# Mount my Google Drive to Colab\n",
    "#from google.colab import drive\n",
    "#drive.mount(\"/content/gdrive\")\n",
    "\n",
    "# Upload Files from computer\n",
    "from google.colab import files\n",
    "uploaded = files.upload()"
   ]
  },
  {
   "cell_type": "code",
   "execution_count": 6,
   "id": "engaging-evans",
   "metadata": {
    "ExecuteTime": {
     "end_time": "2021-02-10T22:01:36.482331Z",
     "start_time": "2021-02-10T22:01:35.597770Z"
    }
   },
   "outputs": [
    {
     "data": {
      "text/html": [
       "<div>\n",
       "<style scoped>\n",
       "    .dataframe tbody tr th:only-of-type {\n",
       "        vertical-align: middle;\n",
       "    }\n",
       "\n",
       "    .dataframe tbody tr th {\n",
       "        vertical-align: top;\n",
       "    }\n",
       "\n",
       "    .dataframe thead th {\n",
       "        text-align: right;\n",
       "    }\n",
       "</style>\n",
       "<table border=\"1\" class=\"dataframe\">\n",
       "  <thead>\n",
       "    <tr style=\"text-align: right;\">\n",
       "      <th></th>\n",
       "      <th>CID</th>\n",
       "      <th>salinity</th>\n",
       "      <th>srtm30</th>\n",
       "      <th>silicate</th>\n",
       "      <th>phosphate</th>\n",
       "      <th>nitrate</th>\n",
       "      <th>disso2</th>\n",
       "      <th>temp</th>\n",
       "      <th>sea_grass</th>\n",
       "      <th>geometry</th>\n",
       "    </tr>\n",
       "  </thead>\n",
       "  <tbody>\n",
       "    <tr>\n",
       "      <th>0</th>\n",
       "      <td>1</td>\n",
       "      <td>36.1645</td>\n",
       "      <td>-13.54730</td>\n",
       "      <td>2.14787</td>\n",
       "      <td>0.085490</td>\n",
       "      <td>0.672583</td>\n",
       "      <td>4.73538</td>\n",
       "      <td>26.0314</td>\n",
       "      <td>1</td>\n",
       "      <td>POINT (-82.22100 24.50021)</td>\n",
       "    </tr>\n",
       "    <tr>\n",
       "      <th>1</th>\n",
       "      <td>1</td>\n",
       "      <td>35.8820</td>\n",
       "      <td>-5.29631</td>\n",
       "      <td>3.39048</td>\n",
       "      <td>0.081309</td>\n",
       "      <td>0.589654</td>\n",
       "      <td>4.82170</td>\n",
       "      <td>26.2659</td>\n",
       "      <td>1</td>\n",
       "      <td>POINT (-81.16694 25.14926)</td>\n",
       "    </tr>\n",
       "    <tr>\n",
       "      <th>2</th>\n",
       "      <td>1</td>\n",
       "      <td>28.2685</td>\n",
       "      <td>5.36795</td>\n",
       "      <td>4.50515</td>\n",
       "      <td>0.220880</td>\n",
       "      <td>1.225100</td>\n",
       "      <td>4.74903</td>\n",
       "      <td>23.2961</td>\n",
       "      <td>0</td>\n",
       "      <td>POINT (-90.58674 29.24938)</td>\n",
       "    </tr>\n",
       "    <tr>\n",
       "      <th>3</th>\n",
       "      <td>1</td>\n",
       "      <td>27.8134</td>\n",
       "      <td>-11.50460</td>\n",
       "      <td>2.30621</td>\n",
       "      <td>0.353542</td>\n",
       "      <td>2.226290</td>\n",
       "      <td>5.55894</td>\n",
       "      <td>14.3673</td>\n",
       "      <td>1</td>\n",
       "      <td>POINT (-76.05466 36.96940)</td>\n",
       "    </tr>\n",
       "    <tr>\n",
       "      <th>4</th>\n",
       "      <td>1</td>\n",
       "      <td>16.0193</td>\n",
       "      <td>-4.73809</td>\n",
       "      <td>2.47356</td>\n",
       "      <td>0.409711</td>\n",
       "      <td>2.607220</td>\n",
       "      <td>5.76708</td>\n",
       "      <td>13.9874</td>\n",
       "      <td>1</td>\n",
       "      <td>POINT (-76.38891 39.27398)</td>\n",
       "    </tr>\n",
       "    <tr>\n",
       "      <th>5</th>\n",
       "      <td>1</td>\n",
       "      <td>32.8363</td>\n",
       "      <td>-23.88640</td>\n",
       "      <td>2.49948</td>\n",
       "      <td>0.447603</td>\n",
       "      <td>2.762620</td>\n",
       "      <td>6.09137</td>\n",
       "      <td>11.0929</td>\n",
       "      <td>1</td>\n",
       "      <td>POINT (-74.61972 39.19935)</td>\n",
       "    </tr>\n",
       "    <tr>\n",
       "      <th>6</th>\n",
       "      <td>1</td>\n",
       "      <td>28.2685</td>\n",
       "      <td>5.36795</td>\n",
       "      <td>4.50515</td>\n",
       "      <td>0.220880</td>\n",
       "      <td>1.225100</td>\n",
       "      <td>4.74903</td>\n",
       "      <td>23.2961</td>\n",
       "      <td>0</td>\n",
       "      <td>POINT (-90.36159 29.29488)</td>\n",
       "    </tr>\n",
       "    <tr>\n",
       "      <th>7</th>\n",
       "      <td>1</td>\n",
       "      <td>30.0744</td>\n",
       "      <td>-9.92311</td>\n",
       "      <td>2.24761</td>\n",
       "      <td>0.424255</td>\n",
       "      <td>2.441740</td>\n",
       "      <td>6.03015</td>\n",
       "      <td>13.3154</td>\n",
       "      <td>0</td>\n",
       "      <td>POINT (-74.98192 39.06316)</td>\n",
       "    </tr>\n",
       "    <tr>\n",
       "      <th>8</th>\n",
       "      <td>1</td>\n",
       "      <td>34.4902</td>\n",
       "      <td>-5.78819</td>\n",
       "      <td>1.04916</td>\n",
       "      <td>0.137414</td>\n",
       "      <td>0.312963</td>\n",
       "      <td>4.83985</td>\n",
       "      <td>21.0649</td>\n",
       "      <td>0</td>\n",
       "      <td>POINT (-80.64154 32.16147)</td>\n",
       "    </tr>\n",
       "    <tr>\n",
       "      <th>9</th>\n",
       "      <td>1</td>\n",
       "      <td>33.2107</td>\n",
       "      <td>-66.57840</td>\n",
       "      <td>14.07950</td>\n",
       "      <td>1.038130</td>\n",
       "      <td>8.105710</td>\n",
       "      <td>5.11104</td>\n",
       "      <td>10.9927</td>\n",
       "      <td>0</td>\n",
       "      <td>POINT (-123.83192 39.31507)</td>\n",
       "    </tr>\n",
       "  </tbody>\n",
       "</table>\n",
       "</div>"
      ],
      "text/plain": [
       "   CID  salinity    srtm30  silicate  phosphate   nitrate   disso2     temp  \\\n",
       "0    1   36.1645 -13.54730   2.14787   0.085490  0.672583  4.73538  26.0314   \n",
       "1    1   35.8820  -5.29631   3.39048   0.081309  0.589654  4.82170  26.2659   \n",
       "2    1   28.2685   5.36795   4.50515   0.220880  1.225100  4.74903  23.2961   \n",
       "3    1   27.8134 -11.50460   2.30621   0.353542  2.226290  5.55894  14.3673   \n",
       "4    1   16.0193  -4.73809   2.47356   0.409711  2.607220  5.76708  13.9874   \n",
       "5    1   32.8363 -23.88640   2.49948   0.447603  2.762620  6.09137  11.0929   \n",
       "6    1   28.2685   5.36795   4.50515   0.220880  1.225100  4.74903  23.2961   \n",
       "7    1   30.0744  -9.92311   2.24761   0.424255  2.441740  6.03015  13.3154   \n",
       "8    1   34.4902  -5.78819   1.04916   0.137414  0.312963  4.83985  21.0649   \n",
       "9    1   33.2107 -66.57840  14.07950   1.038130  8.105710  5.11104  10.9927   \n",
       "\n",
       "   sea_grass                     geometry  \n",
       "0          1   POINT (-82.22100 24.50021)  \n",
       "1          1   POINT (-81.16694 25.14926)  \n",
       "2          0   POINT (-90.58674 29.24938)  \n",
       "3          1   POINT (-76.05466 36.96940)  \n",
       "4          1   POINT (-76.38891 39.27398)  \n",
       "5          1   POINT (-74.61972 39.19935)  \n",
       "6          0   POINT (-90.36159 29.29488)  \n",
       "7          0   POINT (-74.98192 39.06316)  \n",
       "8          0   POINT (-80.64154 32.16147)  \n",
       "9          0  POINT (-123.83192 39.31507)  "
      ]
     },
     "execution_count": 6,
     "metadata": {},
     "output_type": "execute_result"
    }
   ],
   "source": [
    "# Read shapefiles\n",
    "countries_gpd = gpd.read_file(\"C:/Users/jfeng/Graduate School Coursework Materials/AAG Machine Learning Workshop/SeagrassData/Data/Countries_2007.shp\")\n",
    "coastline_gpd = gpd.read_file(\"C:/Users/jfeng/Graduate School Coursework Materials/AAG Machine Learning Workshop/SeagrassData/Data/coastline_attr_seagrass.shp\")\n",
    "coastline_gpd.head(10)"
   ]
  },
  {
   "cell_type": "code",
   "execution_count": 11,
   "id": "decent-sitting",
   "metadata": {
    "ExecuteTime": {
     "end_time": "2021-02-10T22:03:14.055357Z",
     "start_time": "2021-02-10T22:03:13.072471Z"
    }
   },
   "outputs": [
    {
     "data": {
      "text/plain": [
       "<AxesSubplot:>"
      ]
     },
     "execution_count": 11,
     "metadata": {},
     "output_type": "execute_result"
    },
    {
     "data": {
      "image/png": "[encoded data removed]",
      "text/plain": [
       "<Figure size 720x576 with 1 Axes>"
      ]
     },
     "metadata": {
      "needs_background": "light"
     },
     "output_type": "display_data"
    }
   ],
   "source": [
    "# Plot coastline\n",
    "coastline_gpd.plot(figsize=(10,8))"
   ]
  },
  {
   "cell_type": "code",
   "execution_count": 13,
   "id": "consolidated-advantage",
   "metadata": {
    "ExecuteTime": {
     "end_time": "2021-02-10T22:04:34.011601Z",
     "start_time": "2021-02-10T22:04:33.665561Z"
    }
   },
   "outputs": [],
   "source": [
    "# Geospatial feature engineering\n",
    "coastline_gpd[\"x\"], coastline_gpd[\"y\"] = coastline_gpd.geometry.x, coastline_gpd.geometry.y"
   ]
  },
  {
   "cell_type": "code",
   "execution_count": 15,
   "id": "marine-reverse",
   "metadata": {
    "ExecuteTime": {
     "end_time": "2021-02-10T22:05:36.233714Z",
     "start_time": "2021-02-10T22:05:36.201800Z"
    }
   },
   "outputs": [],
   "source": [
    "# Dividing data into training and testing sets\n",
    "train = coastline_gpd.sample(frac=0.8, random_state=42)\n",
    "test = coastline_gpd.drop(train.index)"
   ]
  },
  {
   "cell_type": "code",
   "execution_count": 16,
   "id": "collectible-ecuador",
   "metadata": {
    "ExecuteTime": {
     "end_time": "2021-02-10T22:07:05.427472Z",
     "start_time": "2021-02-10T22:07:05.408536Z"
    }
   },
   "outputs": [],
   "source": [
    "# Prepare train and test data\n",
    "train_label = train.pop(\"sea_grass\")\n",
    "test_label = test.pop(\"sea_grass\")\n",
    "train = train[[\"salinity\",\"srtm30\",\"silicate\",\"phosphate\",\"disso2\",\"temp\",\"nitrate\",\"x\",\"y\"]]\n",
    "test = test[[\"salinity\",\"srtm30\",\"silicate\",\"phosphate\",\"disso2\",\"temp\",\"nitrate\",\"x\",\"y\"]]"
   ]
  },
  {
   "cell_type": "code",
   "execution_count": 18,
   "id": "warming-replacement",
   "metadata": {
    "ExecuteTime": {
     "end_time": "2021-02-10T22:14:36.821822Z",
     "start_time": "2021-02-10T22:14:34.731759Z"
    }
   },
   "outputs": [
    {
     "data": {
      "text/plain": [
       "RandomForestClassifier(min_samples_leaf=10, random_state=42)"
      ]
     },
     "execution_count": 18,
     "metadata": {},
     "output_type": "execute_result"
    }
   ],
   "source": [
    "# Create and train decision tree and random forest models\n",
    "from sklearn.tree import DecisionTreeClassifier\n",
    "from sklearn.ensemble import RandomForestClassifier\n",
    "decision_tree_model = DecisionTreeClassifier(random_state=42, min_samples_leaf=10)\n",
    "random_forest_model = RandomForestClassifier(random_state=42, min_samples_leaf=10)\n",
    "decision_tree_model.fit(train, train_label)\n",
    "random_forest_model.fit(train, train_label)"
   ]
  },
  {
   "cell_type": "code",
   "execution_count": 19,
   "id": "external-rugby",
   "metadata": {
    "ExecuteTime": {
     "end_time": "2021-02-10T22:15:04.809846Z",
     "start_time": "2021-02-10T22:15:04.733060Z"
    }
   },
   "outputs": [],
   "source": [
    "from sklearn.metrics import accuracy_score\n",
    "y_pred_1 = decision_tree_model.predict(test)\n",
    "accuracy_1 = accuracy_score(test_label,y_pred_1)\n",
    "y_pred_2 = random_forest_model.predict(test)\n",
    "accuracy_2 = accuracy_score(test_label,y_pred_2)"
   ]
  },
  {
   "cell_type": "code",
   "execution_count": 21,
   "id": "pointed-uganda",
   "metadata": {
    "ExecuteTime": {
     "end_time": "2021-02-10T22:15:11.848577Z",
     "start_time": "2021-02-10T22:15:11.833619Z"
    }
   },
   "outputs": [
    {
     "data": {
      "text/plain": [
       "0.9845"
      ]
     },
     "execution_count": 21,
     "metadata": {},
     "output_type": "execute_result"
    }
   ],
   "source": [
    "accuracy_1"
   ]
  },
  {
   "cell_type": "code",
   "execution_count": 22,
   "id": "radio-burst",
   "metadata": {
    "ExecuteTime": {
     "end_time": "2021-02-10T22:15:18.363882Z",
     "start_time": "2021-02-10T22:15:18.357901Z"
    }
   },
   "outputs": [
    {
     "data": {
      "text/plain": [
       "0.984"
      ]
     },
     "execution_count": 22,
     "metadata": {},
     "output_type": "execute_result"
    }
   ],
   "source": [
    "accuracy_2"
   ]
  },
  {
   "cell_type": "code",
   "execution_count": null,
   "id": "third-blocking",
   "metadata": {},
   "outputs": [],
   "source": []
  }
 ],
 "metadata": {
  "kernelspec": {
   "display_name": "Python 3",
   "language": "python",
   "name": "python3"
  },
  "language_info": {
   "codemirror_mode": {
    "name": "ipython",
    "version": 3
   },
   "file_extension": ".py",
   "mimetype": "text/x-python",
   "name": "python",
   "nbconvert_exporter": "python",
   "pygments_lexer": "ipython3",
   "version": "3.8.5"
  },
  "latex_envs": {
   "LaTeX_envs_menu_present": true,
   "autoclose": false,
   "autocomplete": true,
   "bibliofile": "biblio.bib",
   "cite_by": "apalike",
   "current_citInitial": 1,
   "eqLabelWithNumbers": true,
   "eqNumInitial": 1,
   "hotkeys": {
    "equation": "Ctrl-E",
    "itemize": "Ctrl-I"
   },
   "labels_anchors": false,
   "latex_user_defs": false,
   "report_style_numbering": false,
   "user_envs_cfg": false
  }
 },
 "nbformat": 4,
 "nbformat_minor": 5
}
