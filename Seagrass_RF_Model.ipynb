#!pip install geopandas

# Mount my Google Drive to Colab
#from google.colab import drive
#drive.mount("/content/gdrive")

# Upload Files from computer
from google.colab import files
uploaded = files.upload()

# Read shapefile
#import geopandas as gpd
#coastline_gpd = gpd.read_file("")